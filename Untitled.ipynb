{
 "cells": [
  {
   "cell_type": "markdown",
   "id": "3e02b824",
   "metadata": {},
   "source": [
    "<p> The aim of this notebook is to create a recommendation system. This will help suggest movies to individuals based on their favorite movie"
   ]
  },
  {
   "cell_type": "markdown",
   "id": "dbdcd9c8",
   "metadata": {},
   "source": [
    "## Loading Libraries"
   ]
  },
  {
   "cell_type": "code",
   "execution_count": 1,
   "id": "80121d3c",
   "metadata": {},
   "outputs": [],
   "source": [
    "import numpy as np\n",
    "import pandas as pd\n",
    "import difflib # used to get the closest match to the users value from the dataset to handle mistakes\n",
    "from sklearn.feature_extraction.text import TfidfVectorizer, CountVectorizer # This is used to convert texts into meaningful numerical data\n",
    "from sklearn.metrics.pairwise import cosine_similarity"
   ]
  },
  {
   "cell_type": "code",
   "execution_count": 2,
   "id": "19a35a1d",
   "metadata": {},
   "outputs": [],
   "source": [
    "# I'd like to view all of my columns\n",
    "pd.set_option(\"display.max_columns\",None)"
   ]
  },
  {
   "cell_type": "markdown",
   "id": "0f0bedd3",
   "metadata": {},
   "source": [
    "## Importing Dataset"
   ]
  },
  {
   "cell_type": "code",
   "execution_count": 3,
   "id": "316f1c69",
   "metadata": {
    "scrolled": true
   },
   "outputs": [
    {
     "data": {
      "text/html": [
       "<div>\n",
       "<style scoped>\n",
       "    .dataframe tbody tr th:only-of-type {\n",
       "        vertical-align: middle;\n",
       "    }\n",
       "\n",
       "    .dataframe tbody tr th {\n",
       "        vertical-align: top;\n",
       "    }\n",
       "\n",
       "    .dataframe thead th {\n",
       "        text-align: right;\n",
       "    }\n",
       "</style>\n",
       "<table border=\"1\" class=\"dataframe\">\n",
       "  <thead>\n",
       "    <tr style=\"text-align: right;\">\n",
       "      <th></th>\n",
       "      <th>budget</th>\n",
       "      <th>genres</th>\n",
       "      <th>homepage</th>\n",
       "      <th>id</th>\n",
       "      <th>keywords</th>\n",
       "      <th>original_language</th>\n",
       "      <th>original_title</th>\n",
       "      <th>overview</th>\n",
       "      <th>popularity</th>\n",
       "      <th>production_companies</th>\n",
       "      <th>production_countries</th>\n",
       "      <th>release_date</th>\n",
       "      <th>revenue</th>\n",
       "      <th>runtime</th>\n",
       "      <th>spoken_languages</th>\n",
       "      <th>status</th>\n",
       "      <th>tagline</th>\n",
       "      <th>title</th>\n",
       "      <th>vote_average</th>\n",
       "      <th>vote_count</th>\n",
       "      <th>cast</th>\n",
       "      <th>crew</th>\n",
       "      <th>director</th>\n",
       "    </tr>\n",
       "    <tr>\n",
       "      <th>index</th>\n",
       "      <th></th>\n",
       "      <th></th>\n",
       "      <th></th>\n",
       "      <th></th>\n",
       "      <th></th>\n",
       "      <th></th>\n",
       "      <th></th>\n",
       "      <th></th>\n",
       "      <th></th>\n",
       "      <th></th>\n",
       "      <th></th>\n",
       "      <th></th>\n",
       "      <th></th>\n",
       "      <th></th>\n",
       "      <th></th>\n",
       "      <th></th>\n",
       "      <th></th>\n",
       "      <th></th>\n",
       "      <th></th>\n",
       "      <th></th>\n",
       "      <th></th>\n",
       "      <th></th>\n",
       "      <th></th>\n",
       "    </tr>\n",
       "  </thead>\n",
       "  <tbody>\n",
       "    <tr>\n",
       "      <th>0</th>\n",
       "      <td>237000000</td>\n",
       "      <td>Action Adventure Fantasy Science Fiction</td>\n",
       "      <td>http://www.avatarmovie.com/</td>\n",
       "      <td>19995</td>\n",
       "      <td>culture clash future space war space colony so...</td>\n",
       "      <td>en</td>\n",
       "      <td>Avatar</td>\n",
       "      <td>In the 22nd century, a paraplegic Marine is di...</td>\n",
       "      <td>150.437577</td>\n",
       "      <td>[{\"name\": \"Ingenious Film Partners\", \"id\": 289...</td>\n",
       "      <td>[{\"iso_3166_1\": \"US\", \"name\": \"United States o...</td>\n",
       "      <td>2009-12-10</td>\n",
       "      <td>2787965087</td>\n",
       "      <td>162.0</td>\n",
       "      <td>[{\"iso_639_1\": \"en\", \"name\": \"English\"}, {\"iso...</td>\n",
       "      <td>Released</td>\n",
       "      <td>Enter the World of Pandora.</td>\n",
       "      <td>Avatar</td>\n",
       "      <td>7.2</td>\n",
       "      <td>11800</td>\n",
       "      <td>Sam Worthington Zoe Saldana Sigourney Weaver S...</td>\n",
       "      <td>[{'name': 'Stephen E. Rivkin', 'gender': 0, 'd...</td>\n",
       "      <td>James Cameron</td>\n",
       "    </tr>\n",
       "    <tr>\n",
       "      <th>1</th>\n",
       "      <td>300000000</td>\n",
       "      <td>Adventure Fantasy Action</td>\n",
       "      <td>http://disney.go.com/disneypictures/pirates/</td>\n",
       "      <td>285</td>\n",
       "      <td>ocean drug abuse exotic island east india trad...</td>\n",
       "      <td>en</td>\n",
       "      <td>Pirates of the Caribbean: At World's End</td>\n",
       "      <td>Captain Barbossa, long believed to be dead, ha...</td>\n",
       "      <td>139.082615</td>\n",
       "      <td>[{\"name\": \"Walt Disney Pictures\", \"id\": 2}, {\"...</td>\n",
       "      <td>[{\"iso_3166_1\": \"US\", \"name\": \"United States o...</td>\n",
       "      <td>2007-05-19</td>\n",
       "      <td>961000000</td>\n",
       "      <td>169.0</td>\n",
       "      <td>[{\"iso_639_1\": \"en\", \"name\": \"English\"}]</td>\n",
       "      <td>Released</td>\n",
       "      <td>At the end of the world, the adventure begins.</td>\n",
       "      <td>Pirates of the Caribbean: At World's End</td>\n",
       "      <td>6.9</td>\n",
       "      <td>4500</td>\n",
       "      <td>Johnny Depp Orlando Bloom Keira Knightley Stel...</td>\n",
       "      <td>[{'name': 'Dariusz Wolski', 'gender': 2, 'depa...</td>\n",
       "      <td>Gore Verbinski</td>\n",
       "    </tr>\n",
       "    <tr>\n",
       "      <th>2</th>\n",
       "      <td>245000000</td>\n",
       "      <td>Action Adventure Crime</td>\n",
       "      <td>http://www.sonypictures.com/movies/spectre/</td>\n",
       "      <td>206647</td>\n",
       "      <td>spy based on novel secret agent sequel mi6</td>\n",
       "      <td>en</td>\n",
       "      <td>Spectre</td>\n",
       "      <td>A cryptic message from Bond’s past sends him o...</td>\n",
       "      <td>107.376788</td>\n",
       "      <td>[{\"name\": \"Columbia Pictures\", \"id\": 5}, {\"nam...</td>\n",
       "      <td>[{\"iso_3166_1\": \"GB\", \"name\": \"United Kingdom\"...</td>\n",
       "      <td>2015-10-26</td>\n",
       "      <td>880674609</td>\n",
       "      <td>148.0</td>\n",
       "      <td>[{\"iso_639_1\": \"fr\", \"name\": \"Fran\\u00e7ais\"},...</td>\n",
       "      <td>Released</td>\n",
       "      <td>A Plan No One Escapes</td>\n",
       "      <td>Spectre</td>\n",
       "      <td>6.3</td>\n",
       "      <td>4466</td>\n",
       "      <td>Daniel Craig Christoph Waltz L\\u00e9a Seydoux ...</td>\n",
       "      <td>[{'name': 'Thomas Newman', 'gender': 2, 'depar...</td>\n",
       "      <td>Sam Mendes</td>\n",
       "    </tr>\n",
       "    <tr>\n",
       "      <th>3</th>\n",
       "      <td>250000000</td>\n",
       "      <td>Action Crime Drama Thriller</td>\n",
       "      <td>http://www.thedarkknightrises.com/</td>\n",
       "      <td>49026</td>\n",
       "      <td>dc comics crime fighter terrorist secret ident...</td>\n",
       "      <td>en</td>\n",
       "      <td>The Dark Knight Rises</td>\n",
       "      <td>Following the death of District Attorney Harve...</td>\n",
       "      <td>112.312950</td>\n",
       "      <td>[{\"name\": \"Legendary Pictures\", \"id\": 923}, {\"...</td>\n",
       "      <td>[{\"iso_3166_1\": \"US\", \"name\": \"United States o...</td>\n",
       "      <td>2012-07-16</td>\n",
       "      <td>1084939099</td>\n",
       "      <td>165.0</td>\n",
       "      <td>[{\"iso_639_1\": \"en\", \"name\": \"English\"}]</td>\n",
       "      <td>Released</td>\n",
       "      <td>The Legend Ends</td>\n",
       "      <td>The Dark Knight Rises</td>\n",
       "      <td>7.6</td>\n",
       "      <td>9106</td>\n",
       "      <td>Christian Bale Michael Caine Gary Oldman Anne ...</td>\n",
       "      <td>[{'name': 'Hans Zimmer', 'gender': 2, 'departm...</td>\n",
       "      <td>Christopher Nolan</td>\n",
       "    </tr>\n",
       "    <tr>\n",
       "      <th>4</th>\n",
       "      <td>260000000</td>\n",
       "      <td>Action Adventure Science Fiction</td>\n",
       "      <td>http://movies.disney.com/john-carter</td>\n",
       "      <td>49529</td>\n",
       "      <td>based on novel mars medallion space travel pri...</td>\n",
       "      <td>en</td>\n",
       "      <td>John Carter</td>\n",
       "      <td>John Carter is a war-weary, former military ca...</td>\n",
       "      <td>43.926995</td>\n",
       "      <td>[{\"name\": \"Walt Disney Pictures\", \"id\": 2}]</td>\n",
       "      <td>[{\"iso_3166_1\": \"US\", \"name\": \"United States o...</td>\n",
       "      <td>2012-03-07</td>\n",
       "      <td>284139100</td>\n",
       "      <td>132.0</td>\n",
       "      <td>[{\"iso_639_1\": \"en\", \"name\": \"English\"}]</td>\n",
       "      <td>Released</td>\n",
       "      <td>Lost in our world, found in another.</td>\n",
       "      <td>John Carter</td>\n",
       "      <td>6.1</td>\n",
       "      <td>2124</td>\n",
       "      <td>Taylor Kitsch Lynn Collins Samantha Morton Wil...</td>\n",
       "      <td>[{'name': 'Andrew Stanton', 'gender': 2, 'depa...</td>\n",
       "      <td>Andrew Stanton</td>\n",
       "    </tr>\n",
       "  </tbody>\n",
       "</table>\n",
       "</div>"
      ],
      "text/plain": [
       "          budget                                    genres  \\\n",
       "index                                                        \n",
       "0      237000000  Action Adventure Fantasy Science Fiction   \n",
       "1      300000000                  Adventure Fantasy Action   \n",
       "2      245000000                    Action Adventure Crime   \n",
       "3      250000000               Action Crime Drama Thriller   \n",
       "4      260000000          Action Adventure Science Fiction   \n",
       "\n",
       "                                           homepage      id  \\\n",
       "index                                                         \n",
       "0                       http://www.avatarmovie.com/   19995   \n",
       "1      http://disney.go.com/disneypictures/pirates/     285   \n",
       "2       http://www.sonypictures.com/movies/spectre/  206647   \n",
       "3                http://www.thedarkknightrises.com/   49026   \n",
       "4              http://movies.disney.com/john-carter   49529   \n",
       "\n",
       "                                                keywords original_language  \\\n",
       "index                                                                        \n",
       "0      culture clash future space war space colony so...                en   \n",
       "1      ocean drug abuse exotic island east india trad...                en   \n",
       "2             spy based on novel secret agent sequel mi6                en   \n",
       "3      dc comics crime fighter terrorist secret ident...                en   \n",
       "4      based on novel mars medallion space travel pri...                en   \n",
       "\n",
       "                                 original_title  \\\n",
       "index                                             \n",
       "0                                        Avatar   \n",
       "1      Pirates of the Caribbean: At World's End   \n",
       "2                                       Spectre   \n",
       "3                         The Dark Knight Rises   \n",
       "4                                   John Carter   \n",
       "\n",
       "                                                overview  popularity  \\\n",
       "index                                                                  \n",
       "0      In the 22nd century, a paraplegic Marine is di...  150.437577   \n",
       "1      Captain Barbossa, long believed to be dead, ha...  139.082615   \n",
       "2      A cryptic message from Bond’s past sends him o...  107.376788   \n",
       "3      Following the death of District Attorney Harve...  112.312950   \n",
       "4      John Carter is a war-weary, former military ca...   43.926995   \n",
       "\n",
       "                                    production_companies  \\\n",
       "index                                                      \n",
       "0      [{\"name\": \"Ingenious Film Partners\", \"id\": 289...   \n",
       "1      [{\"name\": \"Walt Disney Pictures\", \"id\": 2}, {\"...   \n",
       "2      [{\"name\": \"Columbia Pictures\", \"id\": 5}, {\"nam...   \n",
       "3      [{\"name\": \"Legendary Pictures\", \"id\": 923}, {\"...   \n",
       "4            [{\"name\": \"Walt Disney Pictures\", \"id\": 2}]   \n",
       "\n",
       "                                    production_countries release_date  \\\n",
       "index                                                                   \n",
       "0      [{\"iso_3166_1\": \"US\", \"name\": \"United States o...   2009-12-10   \n",
       "1      [{\"iso_3166_1\": \"US\", \"name\": \"United States o...   2007-05-19   \n",
       "2      [{\"iso_3166_1\": \"GB\", \"name\": \"United Kingdom\"...   2015-10-26   \n",
       "3      [{\"iso_3166_1\": \"US\", \"name\": \"United States o...   2012-07-16   \n",
       "4      [{\"iso_3166_1\": \"US\", \"name\": \"United States o...   2012-03-07   \n",
       "\n",
       "          revenue  runtime                                   spoken_languages  \\\n",
       "index                                                                           \n",
       "0      2787965087    162.0  [{\"iso_639_1\": \"en\", \"name\": \"English\"}, {\"iso...   \n",
       "1       961000000    169.0           [{\"iso_639_1\": \"en\", \"name\": \"English\"}]   \n",
       "2       880674609    148.0  [{\"iso_639_1\": \"fr\", \"name\": \"Fran\\u00e7ais\"},...   \n",
       "3      1084939099    165.0           [{\"iso_639_1\": \"en\", \"name\": \"English\"}]   \n",
       "4       284139100    132.0           [{\"iso_639_1\": \"en\", \"name\": \"English\"}]   \n",
       "\n",
       "         status                                         tagline  \\\n",
       "index                                                             \n",
       "0      Released                     Enter the World of Pandora.   \n",
       "1      Released  At the end of the world, the adventure begins.   \n",
       "2      Released                           A Plan No One Escapes   \n",
       "3      Released                                 The Legend Ends   \n",
       "4      Released            Lost in our world, found in another.   \n",
       "\n",
       "                                          title  vote_average  vote_count  \\\n",
       "index                                                                       \n",
       "0                                        Avatar           7.2       11800   \n",
       "1      Pirates of the Caribbean: At World's End           6.9        4500   \n",
       "2                                       Spectre           6.3        4466   \n",
       "3                         The Dark Knight Rises           7.6        9106   \n",
       "4                                   John Carter           6.1        2124   \n",
       "\n",
       "                                                    cast  \\\n",
       "index                                                      \n",
       "0      Sam Worthington Zoe Saldana Sigourney Weaver S...   \n",
       "1      Johnny Depp Orlando Bloom Keira Knightley Stel...   \n",
       "2      Daniel Craig Christoph Waltz L\\u00e9a Seydoux ...   \n",
       "3      Christian Bale Michael Caine Gary Oldman Anne ...   \n",
       "4      Taylor Kitsch Lynn Collins Samantha Morton Wil...   \n",
       "\n",
       "                                                    crew           director  \n",
       "index                                                                        \n",
       "0      [{'name': 'Stephen E. Rivkin', 'gender': 0, 'd...      James Cameron  \n",
       "1      [{'name': 'Dariusz Wolski', 'gender': 2, 'depa...     Gore Verbinski  \n",
       "2      [{'name': 'Thomas Newman', 'gender': 2, 'depar...         Sam Mendes  \n",
       "3      [{'name': 'Hans Zimmer', 'gender': 2, 'departm...  Christopher Nolan  \n",
       "4      [{'name': 'Andrew Stanton', 'gender': 2, 'depa...     Andrew Stanton  "
      ]
     },
     "execution_count": 3,
     "metadata": {},
     "output_type": "execute_result"
    }
   ],
   "source": [
    "movies = pd.read_csv('movies.csv',index_col='index')\n",
    "movies.head()"
   ]
  },
  {
   "cell_type": "code",
   "execution_count": 4,
   "id": "4fa14632",
   "metadata": {},
   "outputs": [
    {
     "data": {
      "text/plain": [
       "(4803, 23)"
      ]
     },
     "execution_count": 4,
     "metadata": {},
     "output_type": "execute_result"
    }
   ],
   "source": [
    "movies.shape"
   ]
  },
  {
   "cell_type": "markdown",
   "id": "a9281589",
   "metadata": {},
   "source": [
    "### Selecting the columns that seem relevent to a particular movie type"
   ]
  },
  {
   "cell_type": "code",
   "execution_count": 5,
   "id": "d322fb64",
   "metadata": {},
   "outputs": [],
   "source": [
    "selected_cols = ['genres','homepage','keywords','title','director','cast','crew']"
   ]
  },
  {
   "cell_type": "code",
   "execution_count": 6,
   "id": "381f5562",
   "metadata": {},
   "outputs": [],
   "source": [
    "selected_movies = movies[selected_cols].copy()"
   ]
  },
  {
   "cell_type": "code",
   "execution_count": 7,
   "id": "f21361cf",
   "metadata": {},
   "outputs": [],
   "source": [
    "import re"
   ]
  },
  {
   "cell_type": "code",
   "execution_count": 8,
   "id": "e8a5875e",
   "metadata": {},
   "outputs": [],
   "source": [
    "def get_site(x):\n",
    "    site = re.match(r'^(http(s)?).*(\\.com)',x)\n",
    "    if site is None:\n",
    "        return \"\"\n",
    "    return site.string"
   ]
  },
  {
   "cell_type": "code",
   "execution_count": 9,
   "id": "9fb28667",
   "metadata": {},
   "outputs": [
    {
     "data": {
      "text/html": [
       "<div>\n",
       "<style scoped>\n",
       "    .dataframe tbody tr th:only-of-type {\n",
       "        vertical-align: middle;\n",
       "    }\n",
       "\n",
       "    .dataframe tbody tr th {\n",
       "        vertical-align: top;\n",
       "    }\n",
       "\n",
       "    .dataframe thead th {\n",
       "        text-align: right;\n",
       "    }\n",
       "</style>\n",
       "<table border=\"1\" class=\"dataframe\">\n",
       "  <thead>\n",
       "    <tr style=\"text-align: right;\">\n",
       "      <th></th>\n",
       "      <th>genres</th>\n",
       "      <th>homepage</th>\n",
       "      <th>keywords</th>\n",
       "      <th>title</th>\n",
       "      <th>director</th>\n",
       "      <th>cast</th>\n",
       "      <th>crew</th>\n",
       "    </tr>\n",
       "    <tr>\n",
       "      <th>index</th>\n",
       "      <th></th>\n",
       "      <th></th>\n",
       "      <th></th>\n",
       "      <th></th>\n",
       "      <th></th>\n",
       "      <th></th>\n",
       "      <th></th>\n",
       "    </tr>\n",
       "  </thead>\n",
       "  <tbody>\n",
       "    <tr>\n",
       "      <th>0</th>\n",
       "      <td>Action Adventure Fantasy Science Fiction</td>\n",
       "      <td>http://www.avatarmovie.com/</td>\n",
       "      <td>culture clash future space war space colony so...</td>\n",
       "      <td>Avatar</td>\n",
       "      <td>James Cameron</td>\n",
       "      <td>Sam Worthington Zoe Saldana Sigourney Weaver S...</td>\n",
       "      <td>[{'name': 'Stephen E. Rivkin', 'gender': 0, 'd...</td>\n",
       "    </tr>\n",
       "    <tr>\n",
       "      <th>1</th>\n",
       "      <td>Adventure Fantasy Action</td>\n",
       "      <td>http://disney.go.com/disneypictures/pirates/</td>\n",
       "      <td>ocean drug abuse exotic island east india trad...</td>\n",
       "      <td>Pirates of the Caribbean: At World's End</td>\n",
       "      <td>Gore Verbinski</td>\n",
       "      <td>Johnny Depp Orlando Bloom Keira Knightley Stel...</td>\n",
       "      <td>[{'name': 'Dariusz Wolski', 'gender': 2, 'depa...</td>\n",
       "    </tr>\n",
       "    <tr>\n",
       "      <th>2</th>\n",
       "      <td>Action Adventure Crime</td>\n",
       "      <td>http://www.sonypictures.com/movies/spectre/</td>\n",
       "      <td>spy based on novel secret agent sequel mi6</td>\n",
       "      <td>Spectre</td>\n",
       "      <td>Sam Mendes</td>\n",
       "      <td>Daniel Craig Christoph Waltz L\\u00e9a Seydoux ...</td>\n",
       "      <td>[{'name': 'Thomas Newman', 'gender': 2, 'depar...</td>\n",
       "    </tr>\n",
       "    <tr>\n",
       "      <th>3</th>\n",
       "      <td>Action Crime Drama Thriller</td>\n",
       "      <td>http://www.thedarkknightrises.com/</td>\n",
       "      <td>dc comics crime fighter terrorist secret ident...</td>\n",
       "      <td>The Dark Knight Rises</td>\n",
       "      <td>Christopher Nolan</td>\n",
       "      <td>Christian Bale Michael Caine Gary Oldman Anne ...</td>\n",
       "      <td>[{'name': 'Hans Zimmer', 'gender': 2, 'departm...</td>\n",
       "    </tr>\n",
       "    <tr>\n",
       "      <th>4</th>\n",
       "      <td>Action Adventure Science Fiction</td>\n",
       "      <td>http://movies.disney.com/john-carter</td>\n",
       "      <td>based on novel mars medallion space travel pri...</td>\n",
       "      <td>John Carter</td>\n",
       "      <td>Andrew Stanton</td>\n",
       "      <td>Taylor Kitsch Lynn Collins Samantha Morton Wil...</td>\n",
       "      <td>[{'name': 'Andrew Stanton', 'gender': 2, 'depa...</td>\n",
       "    </tr>\n",
       "  </tbody>\n",
       "</table>\n",
       "</div>"
      ],
      "text/plain": [
       "                                         genres  \\\n",
       "index                                             \n",
       "0      Action Adventure Fantasy Science Fiction   \n",
       "1                      Adventure Fantasy Action   \n",
       "2                        Action Adventure Crime   \n",
       "3                   Action Crime Drama Thriller   \n",
       "4              Action Adventure Science Fiction   \n",
       "\n",
       "                                           homepage  \\\n",
       "index                                                 \n",
       "0                       http://www.avatarmovie.com/   \n",
       "1      http://disney.go.com/disneypictures/pirates/   \n",
       "2       http://www.sonypictures.com/movies/spectre/   \n",
       "3                http://www.thedarkknightrises.com/   \n",
       "4              http://movies.disney.com/john-carter   \n",
       "\n",
       "                                                keywords  \\\n",
       "index                                                      \n",
       "0      culture clash future space war space colony so...   \n",
       "1      ocean drug abuse exotic island east india trad...   \n",
       "2             spy based on novel secret agent sequel mi6   \n",
       "3      dc comics crime fighter terrorist secret ident...   \n",
       "4      based on novel mars medallion space travel pri...   \n",
       "\n",
       "                                          title           director  \\\n",
       "index                                                                \n",
       "0                                        Avatar      James Cameron   \n",
       "1      Pirates of the Caribbean: At World's End     Gore Verbinski   \n",
       "2                                       Spectre         Sam Mendes   \n",
       "3                         The Dark Knight Rises  Christopher Nolan   \n",
       "4                                   John Carter     Andrew Stanton   \n",
       "\n",
       "                                                    cast  \\\n",
       "index                                                      \n",
       "0      Sam Worthington Zoe Saldana Sigourney Weaver S...   \n",
       "1      Johnny Depp Orlando Bloom Keira Knightley Stel...   \n",
       "2      Daniel Craig Christoph Waltz L\\u00e9a Seydoux ...   \n",
       "3      Christian Bale Michael Caine Gary Oldman Anne ...   \n",
       "4      Taylor Kitsch Lynn Collins Samantha Morton Wil...   \n",
       "\n",
       "                                                    crew  \n",
       "index                                                     \n",
       "0      [{'name': 'Stephen E. Rivkin', 'gender': 0, 'd...  \n",
       "1      [{'name': 'Dariusz Wolski', 'gender': 2, 'depa...  \n",
       "2      [{'name': 'Thomas Newman', 'gender': 2, 'depar...  \n",
       "3      [{'name': 'Hans Zimmer', 'gender': 2, 'departm...  \n",
       "4      [{'name': 'Andrew Stanton', 'gender': 2, 'depa...  "
      ]
     },
     "execution_count": 9,
     "metadata": {},
     "output_type": "execute_result"
    }
   ],
   "source": [
    "selected_movies.head()"
   ]
  },
  {
   "cell_type": "code",
   "execution_count": 10,
   "id": "b6163c91",
   "metadata": {},
   "outputs": [
    {
     "data": {
      "text/plain": [
       "genres        28\n",
       "homepage    3091\n",
       "keywords     412\n",
       "title          0\n",
       "director      30\n",
       "cast          43\n",
       "crew           0\n",
       "dtype: int64"
      ]
     },
     "execution_count": 10,
     "metadata": {},
     "output_type": "execute_result"
    }
   ],
   "source": [
    "selected_movies.isna().sum()"
   ]
  },
  {
   "cell_type": "code",
   "execution_count": 11,
   "id": "be02151b",
   "metadata": {
    "scrolled": true
   },
   "outputs": [],
   "source": [
    "selected_movies.fillna(\"\",inplace=True, axis=0)"
   ]
  },
  {
   "cell_type": "code",
   "execution_count": 12,
   "id": "0913d3ac",
   "metadata": {},
   "outputs": [],
   "source": [
    "selected_movies['homepage'] = selected_movies['homepage'].apply(lambda x: get_site(x))"
   ]
  },
  {
   "cell_type": "code",
   "execution_count": 13,
   "id": "7b9ad9d1",
   "metadata": {},
   "outputs": [],
   "source": [
    "jumbled = \"\"\n",
    "for cols in selected_cols:\n",
    "    jumbled += selected_movies[cols]+' '"
   ]
  },
  {
   "cell_type": "code",
   "execution_count": 14,
   "id": "b85e487a",
   "metadata": {
    "scrolled": false
   },
   "outputs": [
    {
     "data": {
      "text/plain": [
       "index\n",
       "0       Action Adventure Fantasy Science Fiction http:...\n",
       "1       Adventure Fantasy Action http://disney.go.com/...\n",
       "2       Action Adventure Crime http://www.sonypictures...\n",
       "3       Action Crime Drama Thriller http://www.thedark...\n",
       "4       Action Adventure Science Fiction http://movies...\n",
       "                              ...                        \n",
       "4798    Action Crime Thriller  united states\\u2013mexi...\n",
       "4799    Comedy Romance   Newlyweds Edward Burns Edward...\n",
       "4800    Comedy Drama Romance TV Movie http://www.hallm...\n",
       "4801     http://shanghaicalling.com/  Shanghai Calling...\n",
       "4802    Documentary  obsession camcorder crush dream g...\n",
       "Name: genres, Length: 4803, dtype: object"
      ]
     },
     "execution_count": 14,
     "metadata": {},
     "output_type": "execute_result"
    }
   ],
   "source": [
    "jumbled"
   ]
  },
  {
   "cell_type": "markdown",
   "id": "4a3da4ea",
   "metadata": {},
   "source": [
    "### Converting the textual data to a feature vector"
   ]
  },
  {
   "cell_type": "code",
   "execution_count": 15,
   "id": "ca8f3cac",
   "metadata": {},
   "outputs": [],
   "source": [
    "tdvec = TfidfVectorizer()"
   ]
  },
  {
   "cell_type": "code",
   "execution_count": 16,
   "id": "b4333cff",
   "metadata": {},
   "outputs": [],
   "source": [
    "jumbled_vec = tdvec.fit_transform(jumbled)"
   ]
  },
  {
   "cell_type": "markdown",
   "id": "e19438af",
   "metadata": {},
   "source": [
    "Finding the similarity score or similarity confidence values using cosine similarity"
   ]
  },
  {
   "cell_type": "code",
   "execution_count": 18,
   "id": "905e5ac7",
   "metadata": {},
   "outputs": [],
   "source": [
    "similarity = cosine_similarity(jumbled_vec)"
   ]
  },
  {
   "cell_type": "code",
   "execution_count": 19,
   "id": "c0a9a12a",
   "metadata": {
    "scrolled": true
   },
   "outputs": [
    {
     "data": {
      "text/plain": [
       "(4803, 4803)"
      ]
     },
     "execution_count": 19,
     "metadata": {},
     "output_type": "execute_result"
    }
   ],
   "source": [
    "similarity.shape"
   ]
  },
  {
   "cell_type": "markdown",
   "id": "7b220c9c",
   "metadata": {},
   "source": [
    "The reason for the shape of the similarity is that each of the movies are compared with all of the other movies and a score is given for their similarity"
   ]
  },
  {
   "cell_type": "code",
   "execution_count": 20,
   "id": "3e42f63c",
   "metadata": {},
   "outputs": [],
   "source": [
    "movie_titles = movies.title.to_list()"
   ]
  },
  {
   "cell_type": "code",
   "execution_count": 57,
   "id": "7b83f528",
   "metadata": {},
   "outputs": [
    {
     "name": "stdout",
     "output_type": "stream",
     "text": [
      "Enter your favorite movie name: Lord of the rings\n"
     ]
    },
    {
     "data": {
      "text/plain": [
       "['Wrath of the Titans', 'Land of the Lost', 'George of the Jungle']"
      ]
     },
     "execution_count": 57,
     "metadata": {},
     "output_type": "execute_result"
    }
   ],
   "source": [
    "# Getting the movie name from the user\n",
    "movie_name = input(\"Enter your favorite movie name: \")\n",
    "find_close_match = difflib.get_close_matches(movie_name, movie_titles)\n",
    "find_close_match"
   ]
  },
  {
   "cell_type": "code",
   "execution_count": 58,
   "id": "f0693fed",
   "metadata": {},
   "outputs": [],
   "source": [
    "close_match = find_close_match[0]"
   ]
  },
  {
   "cell_type": "code",
   "execution_count": 59,
   "id": "11cd1c81",
   "metadata": {},
   "outputs": [],
   "source": [
    "index_of_movie = movies[movies.title == close_match].index[0]"
   ]
  },
  {
   "cell_type": "code",
   "execution_count": 60,
   "id": "f9b56ef6",
   "metadata": {
    "scrolled": true
   },
   "outputs": [
    {
     "data": {
      "text/plain": [
       "132"
      ]
     },
     "execution_count": 60,
     "metadata": {},
     "output_type": "execute_result"
    }
   ],
   "source": [
    "index_of_movie"
   ]
  },
  {
   "cell_type": "code",
   "execution_count": null,
   "id": "e67029e0",
   "metadata": {},
   "outputs": [],
   "source": []
  },
  {
   "cell_type": "code",
   "execution_count": 61,
   "id": "57ad256c",
   "metadata": {},
   "outputs": [],
   "source": [
    "similarity_score = list(enumerate(similarity[index_of_movie]))"
   ]
  },
  {
   "cell_type": "code",
   "execution_count": 62,
   "id": "ca17dede",
   "metadata": {},
   "outputs": [],
   "source": [
    "sorted_similar_movies = sorted(similarity_score, key = lambda x: x[1],reverse=True)"
   ]
  },
  {
   "cell_type": "code",
   "execution_count": 64,
   "id": "0d27b9c0",
   "metadata": {},
   "outputs": [
    {
     "name": "stdout",
     "output_type": "stream",
     "text": [
      "1. Wrath of the Titans\n",
      "2. Clash of the Titans\n",
      "3. Alexander\n",
      "4. The Chronicles of Riddick\n",
      "5. The Day After Tomorrow\n",
      "6. The Dark Knight Rises\n",
      "7. Jurassic World\n",
      "8. Harry Potter and the Prisoner of Azkaban\n",
      "9. The Core\n",
      "10. The Aviator\n",
      "11. A.I. Artificial Intelligence\n",
      "12. Cursed\n",
      "13. Spectre\n",
      "14. Ant-Man\n",
      "15. Contact\n",
      "16. The Girl with the Dragon Tattoo\n",
      "17. Deep Blue Sea\n",
      "18. Kill Bill: Vol. 1\n",
      "19. The Polar Express\n",
      "20. Catwoman\n",
      "21. Master and Commander: The Far Side of the World\n",
      "22. Harry Potter and the Chamber of Secrets\n",
      "23. Interstellar\n",
      "24. Bad Boys II\n",
      "25. Blade II\n",
      "26. The League of Extraordinary Gentlemen\n",
      "27. The Hunger Games: Mockingjay - Part 1\n",
      "28. Blade: Trinity\n",
      "29. Captain America: The First Avenger\n",
      "30. Minority Report\n"
     ]
    }
   ],
   "source": [
    "count = 0\n",
    "while(count < 30):\n",
    "    print(\"{}. {}\".format(count+1, movies.iloc[sorted_similar_movies[count][0]].title))\n",
    "    count += 1"
   ]
  },
  {
   "cell_type": "code",
   "execution_count": null,
   "id": "8b3482e5",
   "metadata": {},
   "outputs": [],
   "source": []
  }
 ],
 "metadata": {
  "kernelspec": {
   "display_name": "Python 3 (ipykernel)",
   "language": "python",
   "name": "python3"
  },
  "language_info": {
   "codemirror_mode": {
    "name": "ipython",
    "version": 3
   },
   "file_extension": ".py",
   "mimetype": "text/x-python",
   "name": "python",
   "nbconvert_exporter": "python",
   "pygments_lexer": "ipython3",
   "version": "3.9.7"
  }
 },
 "nbformat": 4,
 "nbformat_minor": 5
}
